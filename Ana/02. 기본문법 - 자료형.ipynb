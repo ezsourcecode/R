{
 "cells": [
  {
   "cell_type": "markdown",
   "id": "8b31bade",
   "metadata": {},
   "source": [
    "### 변수(variable)\n",
    " 1. R에서 변수를 만드는 방법\n",
    "     - 왼쪽 화살표 권장 (<-)\n",
    "     - 일반적인 대입연산자(=) 사용 가능\n",
    "<br>\n",
    " 2. 변수명을 만드는 규칙\n",
    "     - 문자, 숫자, 대시(-), 밑줄(_) 조합해서 생성\n",
    "     - 단 첫 글자는 문자\n",
    "     - 소문자로 작성하는 것을 권장"
   ]
  },
  {
   "cell_type": "code",
   "execution_count": 3,
   "id": "e4c2ef1e",
   "metadata": {},
   "outputs": [
    {
     "data": {
      "text/html": [
       "5"
      ],
      "text/latex": [
       "5"
      ],
      "text/markdown": [
       "5"
      ],
      "text/plain": [
       "[1] 5"
      ]
     },
     "metadata": {},
     "output_type": "display_data"
    }
   ],
   "source": [
    "# 변수: 하나의 상수(값)을 저장하는 기억공간\n",
    "x = 5\n",
    "x"
   ]
  },
  {
   "cell_type": "code",
   "execution_count": 4,
   "id": "b1a8e8bb",
   "metadata": {},
   "outputs": [
    {
     "data": {
      "text/html": [
       "10"
      ],
      "text/latex": [
       "10"
      ],
      "text/markdown": [
       "10"
      ],
      "text/plain": [
       "[1] 10"
      ]
     },
     "metadata": {},
     "output_type": "display_data"
    }
   ],
   "source": [
    "y <- 10\n",
    "y"
   ]
  },
  {
   "cell_type": "code",
   "execution_count": 5,
   "id": "0f2a81bf",
   "metadata": {},
   "outputs": [
    {
     "data": {
      "text/html": [
       "3"
      ],
      "text/latex": [
       "3"
      ],
      "text/markdown": [
       "3"
      ],
      "text/plain": [
       "[1] 3"
      ]
     },
     "metadata": {},
     "output_type": "display_data"
    }
   ],
   "source": [
    "3 -> z\n",
    "z"
   ]
  },
  {
   "cell_type": "markdown",
   "id": "151063c4",
   "metadata": {},
   "source": [
    "- 상수(constant, 값): 고정된 값, 수치형(numeric), 문자형(charchactor), 논리형(logical), 복소수형(complex)"
   ]
  },
  {
   "cell_type": "markdown",
   "id": "4a72a6ba",
   "metadata": {},
   "source": [
    "### R에서 문자열(String) 처리"
   ]
  },
  {
   "cell_type": "markdown",
   "id": "663bf6b7",
   "metadata": {},
   "source": [
    "## 패키지 설치\n",
    "install.packages('stringr')\n",
    "# 패키지 로딩\n",
    "library('stringr')"
   ]
  },
  {
   "cell_type": "markdown",
   "id": "a36c2c86",
   "metadata": {},
   "source": [
    "##### 1. Character형 변환"
   ]
  },
  {
   "cell_type": "code",
   "execution_count": 12,
   "id": "915354e4",
   "metadata": {},
   "outputs": [
    {
     "ename": "ERROR",
     "evalue": "Error in library(\"ggplot2\"): there is no package called 'ggplot2'\n",
     "output_type": "error",
     "traceback": [
      "Error in library(\"ggplot2\"): there is no package called 'ggplot2'\nTraceback:\n",
      "1. library(\"ggplot2\")"
     ]
    }
   ],
   "source": [
    "library(\"ggplot2\")"
   ]
  },
  {
   "cell_type": "code",
   "execution_count": 3,
   "id": "d480cc40",
   "metadata": {},
   "outputs": [
    {
     "name": "stdout",
     "output_type": "stream",
     "text": [
      " chr \"1\"\n"
     ]
    }
   ],
   "source": [
    "# as.charchacter(x)\n",
    "x <- 1\n",
    "x <- as.character(x)\n",
    "# 자료형 확인: mode(), typeof(), class()\n",
    "str(x)"
   ]
  },
  {
   "cell_type": "markdown",
   "id": "c01b10c2",
   "metadata": {},
   "source": [
    "##### 2. String 이어 붙이기"
   ]
  },
  {
   "cell_type": "code",
   "execution_count": 5,
   "id": "2bf05064",
   "metadata": {},
   "outputs": [
    {
     "data": {
      "text/html": [
       "<ol class=list-inline>\n",
       "\t<li>'A'</li>\n",
       "\t<li>'B'</li>\n",
       "\t<li>'C'</li>\n",
       "</ol>\n"
      ],
      "text/latex": [
       "\\begin{enumerate*}\n",
       "\\item 'A'\n",
       "\\item 'B'\n",
       "\\item 'C'\n",
       "\\end{enumerate*}\n"
      ],
      "text/markdown": [
       "1. 'A'\n",
       "2. 'B'\n",
       "3. 'C'\n",
       "\n",
       "\n"
      ],
      "text/plain": [
       "[1] \"A\" \"B\" \"C\""
      ]
     },
     "metadata": {},
     "output_type": "display_data"
    }
   ],
   "source": [
    "# python은 문자 연결연산자(+)\n",
    "# paste(), str_c()\n",
    "v1 <- c('A', 'B', 'C')\n",
    "v1"
   ]
  },
  {
   "cell_type": "code",
   "execution_count": 6,
   "id": "2608254f",
   "metadata": {},
   "outputs": [
    {
     "data": {
      "text/html": [
       "<ol class=list-inline>\n",
       "\t<li>'A _1'</li>\n",
       "\t<li>'B _1'</li>\n",
       "\t<li>'C _1'</li>\n",
       "</ol>\n"
      ],
      "text/latex": [
       "\\begin{enumerate*}\n",
       "\\item 'A \\_1'\n",
       "\\item 'B \\_1'\n",
       "\\item 'C \\_1'\n",
       "\\end{enumerate*}\n"
      ],
      "text/markdown": [
       "1. 'A _1'\n",
       "2. 'B _1'\n",
       "3. 'C _1'\n",
       "\n",
       "\n"
      ],
      "text/plain": [
       "[1] \"A _1\" \"B _1\" \"C _1\""
      ]
     },
     "metadata": {},
     "output_type": "display_data"
    }
   ],
   "source": [
    "paste(v1, '_1') # 백터화 연산: 벡터를 구성하고 있는 각각의 요소에 개별적으로 계산을 수행"
   ]
  },
  {
   "cell_type": "code",
   "execution_count": 10,
   "id": "957b37de",
   "metadata": {},
   "outputs": [
    {
     "ename": "ERROR",
     "evalue": "Error in str_c(v1, \"_1\"): 함수 \"str_c\"를 찾을 수 없습니다\n",
     "output_type": "error",
     "traceback": [
      "Error in str_c(v1, \"_1\"): 함수 \"str_c\"를 찾을 수 없습니다\nTraceback:\n"
     ]
    }
   ],
   "source": [
    "str_c(v1, '_1')"
   ]
  },
  {
   "cell_type": "code",
   "execution_count": 9,
   "id": "c6fbb14c",
   "metadata": {},
   "outputs": [
    {
     "name": "stderr",
     "output_type": "stream",
     "text": [
      "also installing the dependencies 'cli', 'lifecycle', 'rlang', 'scales', 'vctrs'\n",
      "\n"
     ]
    },
    {
     "name": "stdout",
     "output_type": "stream",
     "text": [
      "\n",
      "  There are binary versions available but the source versions are later:\n",
      "          binary source needs_compilation\n",
      "cli        2.5.0  3.6.1              TRUE\n",
      "lifecycle  1.0.0  1.0.3             FALSE\n",
      "rlang     0.4.11  1.1.1              TRUE\n",
      "scales     1.1.1  1.2.1             FALSE\n",
      "vctrs      0.3.8  0.6.3              TRUE\n",
      "ggplot2    3.3.3  3.4.2             FALSE\n",
      "\n",
      "  Binaries will be installed\n",
      "package 'cli' successfully unpacked and MD5 sums checked\n",
      "package 'rlang' successfully unpacked and MD5 sums checked\n",
      "package 'vctrs' successfully unpacked and MD5 sums checked\n",
      "\n",
      "The downloaded binary packages are in\n",
      "\tC:\\Users\\NT551_11TH\\AppData\\Local\\Temp\\RtmpMnlLOR\\downloaded_packages\n"
     ]
    },
    {
     "name": "stderr",
     "output_type": "stream",
     "text": [
      "installing the source packages 'lifecycle', 'scales', 'ggplot2'\n",
      "\n",
      "Warning message in install.packages(\"ggplot2\"):\n",
      "\"installation of package 'lifecycle' had non-zero exit status\"Warning message in install.packages(\"ggplot2\"):\n",
      "\"installation of package 'scales' had non-zero exit status\"Warning message in install.packages(\"ggplot2\"):\n",
      "\"installation of package 'ggplot2' had non-zero exit status\""
     ]
    },
    {
     "ename": "ERROR",
     "evalue": "Error in library(\"ggplot2\"): there is no package called 'ggplot2'\n",
     "output_type": "error",
     "traceback": [
      "Error in library(\"ggplot2\"): there is no package called 'ggplot2'\nTraceback:\n",
      "1. library(\"ggplot2\")"
     ]
    }
   ],
   "source": [
    "install.packages('ggplot2')\n",
    "library('ggplot2')"
   ]
  },
  {
   "cell_type": "code",
   "execution_count": null,
   "id": "26bd745a",
   "metadata": {},
   "outputs": [],
   "source": []
  }
 ],
 "metadata": {
  "kernelspec": {
   "display_name": "R",
   "language": "R",
   "name": "ir"
  },
  "language_info": {
   "codemirror_mode": "r",
   "file_extension": ".r",
   "mimetype": "text/x-r-source",
   "name": "R",
   "pygments_lexer": "r",
   "version": "3.6.1"
  }
 },
 "nbformat": 4,
 "nbformat_minor": 5
}
